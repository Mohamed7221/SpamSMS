{
  "nbformat": 4,
  "nbformat_minor": 0,
  "metadata": {
    "colab": {
      "provenance": [],
      "authorship_tag": "ABX9TyN3F2ZwkW7MX9novG0c4mhv",
      "include_colab_link": true
    },
    "kernelspec": {
      "name": "python3",
      "display_name": "Python 3"
    },
    "language_info": {
      "name": "python"
    }
  },
  "cells": [
    {
      "cell_type": "markdown",
      "metadata": {
        "id": "view-in-github",
        "colab_type": "text"
      },
      "source": [
        "<a href=\"https://colab.research.google.com/github/Mohamed7221/SpamSMS/blob/main/SpamSMS.ipynb\" target=\"_parent\"><img src=\"https://colab.research.google.com/assets/colab-badge.svg\" alt=\"Open In Colab\"/></a>"
      ]
    },
    {
      "cell_type": "code",
      "execution_count": 2,
      "metadata": {
        "colab": {
          "base_uri": "https://localhost:8080/"
        },
        "id": "4IsbEVNwgEk1",
        "outputId": "d37314ae-c7d9-45bf-9ded-06f52c14628f"
      },
      "outputs": [
        {
          "output_type": "stream",
          "name": "stderr",
          "text": [
            "Training Models: 100%|██████████| 5/5 [00:06<00:00,  1.39s/it]"
          ]
        },
        {
          "output_type": "stream",
          "name": "stdout",
          "text": [
            "Accuracy for each model:\n",
            "Naive Bayes: 0.9526\n",
            "Logistic Regression: 0.9516\n",
            "Support Vector Machine: 0.9787\n",
            "Random Forest: 0.9691\n",
            "K-Nearest Neighbors: 0.8907\n",
            "\n",
            "Best Model: Support Vector Machine with Accuracy: 0.9787\n"
          ]
        },
        {
          "output_type": "stream",
          "name": "stderr",
          "text": [
            "\n"
          ]
        }
      ],
      "source": [
        "import pandas as pd\n",
        "import numpy as np\n",
        "from sklearn.model_selection import train_test_split\n",
        "from sklearn.feature_extraction.text import TfidfVectorizer\n",
        "from sklearn.naive_bayes import MultinomialNB\n",
        "from sklearn.linear_model import LogisticRegression\n",
        "from sklearn.svm import SVC\n",
        "from sklearn.ensemble import RandomForestClassifier\n",
        "from sklearn.neighbors import KNeighborsClassifier\n",
        "from sklearn.metrics import accuracy_score, classification_report\n",
        "from tqdm import tqdm\n",
        "\n",
        "# تحميل البيانات\n",
        "data = pd.read_csv('spam.csv', encoding='latin-1')\n",
        "data.drop_duplicates(inplace=True)\n",
        "data['label'] = data['v1'].map({'ham': 'ham', 'spam': 'spam'})\n",
        "\n",
        "# تقسيم البيانات إلى ميزات وأهداف\n",
        "X = data['v2']\n",
        "y = data['label']\n",
        "\n",
        "# تقسيم البيانات إلى مجموعة تدريب واختبار\n",
        "X_train, X_test, y_train, y_test = train_test_split(X, y, test_size=0.2, random_state=42)\n",
        "\n",
        "# استخدام TfidfVectorizer\n",
        "tfidf_vectorizer = TfidfVectorizer(stop_words='english', lowercase=True, ngram_range=(1, 2))\n",
        "X_train_tfidf = tfidf_vectorizer.fit_transform(X_train)\n",
        "X_test_tfidf = tfidf_vectorizer.transform(X_test)\n",
        "\n",
        "# تعريف النماذج المختلفة\n",
        "models = {\n",
        "    \"Naive Bayes\": MultinomialNB(),\n",
        "    \"Logistic Regression\": LogisticRegression(max_iter=200),\n",
        "    \"Support Vector Machine\": SVC(),\n",
        "    \"Random Forest\": RandomForestClassifier(n_estimators=100),\n",
        "    \"K-Nearest Neighbors\": KNeighborsClassifier()\n",
        "}\n",
        "\n",
        "# تخزين النتائج\n",
        "accuracy_results = {}\n",
        "progress_bar = tqdm(total=len(models), desc='Training Models', position=0, leave=True)\n",
        "\n",
        "# تدريب وتقييم كل نموذج\n",
        "for model_name, model in models.items():\n",
        "    model.fit(X_train_tfidf, y_train)\n",
        "    y_pred = model.predict(X_test_tfidf)\n",
        "    accuracy = accuracy_score(y_test, y_pred)\n",
        "    accuracy_results[model_name] = accuracy\n",
        "    progress_bar.update(1)\n",
        "\n",
        "progress_bar.close()\n",
        "\n",
        "# عرض النتائج\n",
        "print(\"Accuracy for each model:\")\n",
        "for model_name, accuracy in accuracy_results.items():\n",
        "    print(f\"{model_name}: {accuracy:.4f}\")\n",
        "\n",
        "# عرض النموذج الذي حقق أعلى دقة\n",
        "best_model = max(accuracy_results, key=accuracy_results.get)\n",
        "print(f\"\\nBest Model: {best_model} with Accuracy: {accuracy_results[best_model]:.4f}\")\n"
      ]
    }
  ]
}